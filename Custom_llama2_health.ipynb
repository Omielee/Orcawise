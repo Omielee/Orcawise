{
 "cells": [
  {
   "cell_type": "code",
   "execution_count": 1,
   "id": "98b3cc9e-9e9e-44d8-9123-8ddbece6fa23",
   "metadata": {},
   "outputs": [],
   "source": [
    "import os\n",
    "import torch\n",
    "import json\n",
    "import random\n",
    "\n",
    "from datasets import Dataset\n",
    "from datasets import load_dataset\n",
    "from transformers import (\n",
    "    AutoModelForCausalLM,\n",
    "    AutoTokenizer,\n",
    "    BitsAndBytesConfig,\n",
    "    HfArgumentParser,\n",
    "    TrainingArguments,\n",
    "    pipeline,\n",
    "    logging,\n",
    ")\n",
    "from peft import LoraConfig, PeftModel\n",
    "from trl import SFTTrainer"
   ]
  },
  {
   "cell_type": "code",
   "execution_count": 2,
   "id": "6ce81c1b-289b-422e-9296-eedefd83b20f",
   "metadata": {},
   "outputs": [],
   "source": [
    "os.environ[\"PYTORCH_CUDA_ALLOC_CONF\"] = \"expandable_segments:True\""
   ]
  },
  {
   "cell_type": "code",
   "execution_count": 3,
   "id": "edd636be-8352-49c3-a8f2-b236a90b87e4",
   "metadata": {},
   "outputs": [],
   "source": [
    "torch.cuda.empty_cache() \n"
   ]
  },
  {
   "cell_type": "code",
   "execution_count": 4,
   "id": "2e9e9663-0a0a-4101-ab65-776a445886bd",
   "metadata": {},
   "outputs": [
    {
     "name": "stdout",
     "output_type": "stream",
     "text": [
      "{'text': '<s>[INST]<<SYS>> Given characteristics about a patient, where applicable, provide the APR Severity of Illness Description: <</SYS>> Provide the APR Severity of Illness Description based on values provided: Health Service Area:Capital/Adiron, Hospital County:Clinton, Operating Certificate Number:901001.0, Facility ID:135.0, Facility Name:The University of Vermont Health Network - Champlain Valley Physicians, Age Group:70 or Older, Zip Code - 3 digits:129, Gender:M, Race:White, Ethnicity:Spanish/Hispanic, Length of Stay:17, Type of Admission:Emergency, Patient Disposition:Expired, Discharge Year:2013, CCS Diagnosis Code:122, CCS Diagnosis Description:Pneumonia (except that caused by tuberculosis or sexually transmitted disease), CCS Procedure Code:0, CCS Procedure Description:NO PROC, APR DRG Code:137, APR DRG Description:Major respiratory infections & inflammations, APR MDC Description:Diseases and Disorders of the Respiratory System, APR Risk of Mortality:Major, APR Medical Surgical Description:Medical, Attending Provider License Number:138452.0, Operating Provider License Number:214422.0, Other Provider License Number:207857.0, Birth Weight:0, Emergency Department Indicator:Y, Total Costs:30001.63, Ratio of Total Costs to Total Charges:0.343275239, Payment_Source:Blue Cross/Blue Shield,Medicare [/INST] APR Severity of Illness Description: Major </s>'}\n"
     ]
    }
   ],
   "source": [
    "def load_dataset(file_path):\n",
    "    with open(file_path, 'r') as f:\n",
    "        dataset = json.load(f)\n",
    "    return dataset\n",
    "\n",
    "# Example usage:\n",
    "dataset_file = \"output_llama2.json\"\n",
    "my_dataset=load_dataset(dataset_file)\n",
    "\n",
    "# Now my_dataset is a dictionary where each entry corresponds to a sample\n",
    "# print(my_dataset[0])\n",
    "\n",
    "hf_dataset = Dataset.from_dict({'text': [example['text'] for example in my_dataset]})\n",
    "print(hf_dataset[0])"
   ]
  },
  {
   "cell_type": "markdown",
   "id": "ed654a39-7504-44ef-aeca-fa352f10820f",
   "metadata": {},
   "source": [
    "**Extracting 30 Random samples for experimentation**"
   ]
  },
  {
   "cell_type": "code",
   "execution_count": 5,
   "id": "5ad56ccd-677d-468a-be42-9c30f2032b05",
   "metadata": {},
   "outputs": [
    {
     "data": {
      "text/plain": [
       "30"
      ]
     },
     "execution_count": 5,
     "metadata": {},
     "output_type": "execute_result"
    }
   ],
   "source": [
    "#overring the hf_dataset to 30 new samples\n",
    "random_samples = random.sample(my_dataset, 30)\n",
    "hf_dataset=random_samples\n",
    "#this was the fix\n",
    "hf_dataset = Dataset.from_dict({'text': [example['text'] for example in random_samples]})\n",
    "len(hf_dataset)\n"
   ]
  },
  {
   "cell_type": "code",
   "execution_count": 6,
   "id": "350ea917-0115-4365-be60-3ce47c693f12",
   "metadata": {},
   "outputs": [
    {
     "data": {
      "text/plain": [
       "Dataset({\n",
       "    features: ['text'],\n",
       "    num_rows: 30\n",
       "})"
      ]
     },
     "execution_count": 6,
     "metadata": {},
     "output_type": "execute_result"
    }
   ],
   "source": [
    "hf_dataset"
   ]
  },
  {
   "cell_type": "code",
   "execution_count": 7,
   "id": "fffe2fe6-b48c-4549-a8f9-7f80f1a9980d",
   "metadata": {},
   "outputs": [
    {
     "name": "stdout",
     "output_type": "stream",
     "text": [
      "Random samples saved to 30_random_samples.json\n"
     ]
    }
   ],
   "source": [
    "#saving 30 ranndom as json output\n",
    "if isinstance(my_dataset[0], dict):\n",
    "    # Elements are already dictionaries, no conversion needed.\n",
    "    data_to_save = random_samples\n",
    "else:\n",
    "    # Elements are not dictionaries, convert to a list of dictionaries with an \"item\" key.\n",
    "    data_to_save = [{'item': sample} for sample in random_samples]\n",
    "\n",
    "# Save data to JSON file\n",
    "with open('30_random_samples.json', 'w') as outfile:\n",
    "    json.dump(data_to_save, outfile)\n",
    "\n",
    "print(\"Random samples saved to 30_random_samples.json\")"
   ]
  },
  {
   "cell_type": "code",
   "execution_count": 8,
   "id": "3a5e2270-19ae-4d27-9dc5-b9ef546f005e",
   "metadata": {},
   "outputs": [],
   "source": [
    "# The model that you want to train from the Hugging Face hub\n",
    "model_name = \"NousResearch/Llama-2-7b-chat-hf\"\n",
    "\n",
    "# The instruction dataset to use\n",
    "# dataset_name = \"mlabonne/guanaco-llama2-1k\"\n",
    "\n",
    "# Fine-tuned model name\n",
    "new_model = \"Llama-2-7b-chat-finetune\"\n",
    "\n",
    "################################################################################\n",
    "# QLoRA parameters\n",
    "################################################################################\n",
    "\n",
    "# LoRA attention dimension\n",
    "lora_r = 64\n",
    "\n",
    "# Alpha parameter for LoRA scaling\n",
    "lora_alpha = 16\n",
    "\n",
    "# Dropout probability for LoRA layers\n",
    "lora_dropout = 0.1\n",
    "\n",
    "################################################################################\n",
    "# bitsandbytes parameters\n",
    "################################################################################\n",
    "\n",
    "# Activate 4-bit precision base model loading\n",
    "use_4bit = True\n",
    "\n",
    "# Compute dtype for 4-bit base models\n",
    "bnb_4bit_compute_dtype = \"float16\"\n",
    "\n",
    "# Quantization type (fp4 or nf4)\n",
    "bnb_4bit_quant_type = \"nf4\"\n",
    "\n",
    "# Activate nested quantization for 4-bit base models (double quantization)\n",
    "use_nested_quant = False\n",
    "\n",
    "################################################################################\n",
    "# TrainingArguments parameters\n",
    "################################################################################\n",
    "\n",
    "# Output directory where the model predictions and checkpoints will be stored\n",
    "output_dir = \"./results\"\n",
    "\n",
    "\n",
    "# Enable fp16/bf16 training (set bf16 to True with an A100)\n",
    "fp16 = False\n",
    "bf16 = False\n",
    "\n",
    "\n",
    "\n",
    "# Number of update steps to accumulate the gradients for\n",
    "gradient_accumulation_steps = 1\n",
    "\n",
    "# Enable gradient checkpointing\n",
    "gradient_checkpointing = True\n",
    "\n",
    "# Maximum gradient normal (gradient clipping)\n",
    "max_grad_norm = 0.3\n",
    "\n",
    "\n",
    "# Optimizer to use\n",
    "# optim = \"paged_adamw_32bit\"\n",
    "optim = \"rmsprop_bnb\"\n",
    "# rmsprop_bnb\n",
    "# Learning rate schedule\n",
    "lr_scheduler_type = \"cosine\"\n",
    "\n",
    "# Number of training steps (overrides num_train_epochs)\n",
    "max_steps = -1\n",
    "\n",
    "# Ratio of steps for a linear warmup (from 0 to learning rate)\n",
    "warmup_ratio = 0.03\n",
    "\n",
    "# Group sequences into batches with same length\n",
    "# Saves memory and speeds up training considerably\n",
    "group_by_length = True\n",
    "\n",
    "# Save checkpoint every X updates steps\n",
    "save_steps = 0\n",
    "\n",
    "################################################################################\n",
    "# SFT parameters\n",
    "################################################################################\n",
    "\n",
    "# Maximum sequence length to use\n",
    "max_seq_length = None\n",
    "\n",
    "# Pack multiple short examples in the same input sequence to increase efficiency\n",
    "packing = False\n",
    "\n",
    "# Load the entire model on the GPU 0\n",
    "device_map = {\"\": 0}"
   ]
  },
  {
   "cell_type": "markdown",
   "id": "2c35cb13-b1c0-4cdc-b968-a953bb89e761",
   "metadata": {},
   "source": [
    "## Experiment 1: lr=0.001 Batch = 3"
   ]
  },
  {
   "cell_type": "code",
   "execution_count": 9,
   "id": "352d91c1-c40b-405f-9522-1c05f0562f3e",
   "metadata": {},
   "outputs": [
    {
     "data": {
      "text/plain": [
       "10"
      ]
     },
     "execution_count": 9,
     "metadata": {},
     "output_type": "execute_result"
    }
   ],
   "source": [
    "#Creating an Eval dataset and rerunning\n",
    "#selecting 10 random samples for evaluation\n",
    "random_samples = random.sample(my_dataset, 10)\n",
    "eval_dataset=random_samples\n",
    "#this was the fix\n",
    "eval_dataset = Dataset.from_dict({'text': [example['text'] for example in random_samples]})\n",
    "len(eval_dataset)"
   ]
  },
  {
   "cell_type": "code",
   "execution_count": 10,
   "id": "817da507-84cf-4094-b297-dd978bee2fe8",
   "metadata": {},
   "outputs": [
    {
     "name": "stdout",
     "output_type": "stream",
     "text": [
      "================================================================================\n",
      "Your GPU supports bfloat16: accelerate training with bf16=True\n",
      "================================================================================\n"
     ]
    },
    {
     "data": {
      "application/vnd.jupyter.widget-view+json": {
       "model_id": "51eda340df1248409db5b13a883bc79e",
       "version_major": 2,
       "version_minor": 0
      },
      "text/plain": [
       "Loading checkpoint shards:   0%|          | 0/2 [00:00<?, ?it/s]"
      ]
     },
     "metadata": {},
     "output_type": "display_data"
    },
    {
     "name": "stderr",
     "output_type": "stream",
     "text": [
      "/home/programmer/Documents/orcawise/facebook_llama2/llama_env/lib/python3.8/site-packages/transformers/generation/configuration_utils.py:492: UserWarning: `do_sample` is set to `False`. However, `temperature` is set to `0.9` -- this flag is only used in sample-based generation modes. You should set `do_sample=True` or unset `temperature`. This was detected when initializing the generation config instance, which means the corresponding file may hold incorrect parameterization and should be fixed.\n",
      "  warnings.warn(\n",
      "/home/programmer/Documents/orcawise/facebook_llama2/llama_env/lib/python3.8/site-packages/transformers/generation/configuration_utils.py:497: UserWarning: `do_sample` is set to `False`. However, `top_p` is set to `0.6` -- this flag is only used in sample-based generation modes. You should set `do_sample=True` or unset `top_p`. This was detected when initializing the generation config instance, which means the corresponding file may hold incorrect parameterization and should be fixed.\n",
      "  warnings.warn(\n",
      "/home/programmer/Documents/orcawise/facebook_llama2/llama_env/lib/python3.8/site-packages/transformers/generation/configuration_utils.py:492: UserWarning: `do_sample` is set to `False`. However, `temperature` is set to `0.9` -- this flag is only used in sample-based generation modes. You should set `do_sample=True` or unset `temperature`.\n",
      "  warnings.warn(\n",
      "/home/programmer/Documents/orcawise/facebook_llama2/llama_env/lib/python3.8/site-packages/transformers/generation/configuration_utils.py:497: UserWarning: `do_sample` is set to `False`. However, `top_p` is set to `0.6` -- this flag is only used in sample-based generation modes. You should set `do_sample=True` or unset `top_p`.\n",
      "  warnings.warn(\n",
      "/home/programmer/Documents/orcawise/facebook_llama2/llama_env/lib/python3.8/site-packages/trl/trainer/sft_trainer.py:245: UserWarning: You didn't pass a `max_seq_length` argument to the SFTTrainer, this will default to 1024\n",
      "  warnings.warn(\n"
     ]
    },
    {
     "data": {
      "application/vnd.jupyter.widget-view+json": {
       "model_id": "fb57d5bfc8944f7286c98fe49f269947",
       "version_major": 2,
       "version_minor": 0
      },
      "text/plain": [
       "Map:   0%|          | 0/30 [00:00<?, ? examples/s]"
      ]
     },
     "metadata": {},
     "output_type": "display_data"
    },
    {
     "data": {
      "application/vnd.jupyter.widget-view+json": {
       "model_id": "6d3e572519dd41f19f709dbfaf17e76b",
       "version_major": 2,
       "version_minor": 0
      },
      "text/plain": [
       "Map:   0%|          | 0/10 [00:00<?, ? examples/s]"
      ]
     },
     "metadata": {},
     "output_type": "display_data"
    },
    {
     "name": "stderr",
     "output_type": "stream",
     "text": [
      "/home/programmer/Documents/orcawise/facebook_llama2/llama_env/lib/python3.8/site-packages/accelerate/accelerator.py:432: FutureWarning: Passing the following arguments to `Accelerator` is deprecated and will be removed in version 1.0 of Accelerate: dict_keys(['dispatch_batches', 'split_batches', 'even_batches', 'use_seedable_sampler']). Please pass an `accelerate.DataLoaderConfiguration` instead: \n",
      "dataloader_config = DataLoaderConfiguration(dispatch_batches=None, split_batches=False, even_batches=True, use_seedable_sampler=True)\n",
      "  warnings.warn(\n",
      "Detected kernel version 5.4.0, which is below the recommended minimum of 5.5.0; this can cause the process to hang. It is recommended to upgrade the kernel to the minimum version or higher.\n"
     ]
    }
   ],
   "source": [
    "# Load dataset (you can process it here)\n",
    "# dataset = load_dataset(dataset_name, split=\"train\")\n",
    "from transformers.trainer_callback import EarlyStoppingCallback\n",
    "#Setting New Parameters\n",
    "per_device_train_batch_size = 1\n",
    "\n",
    "per_device_eval_batch_size = 1\n",
    "\n",
    "learning_rate = 0.001\n",
    "\n",
    "weight_decay = 0.001\n",
    "\n",
    "num_train_epochs = 1\n",
    "\n",
    "# Log every X updates steps\n",
    "logging_steps = 3\n",
    "\n",
    "# Load tokenizer and model with QLoRA configuration\n",
    "compute_dtype = getattr(torch, bnb_4bit_compute_dtype)\n",
    "\n",
    "bnb_config = BitsAndBytesConfig(\n",
    "    load_in_4bit=use_4bit,\n",
    "    bnb_4bit_quant_type=bnb_4bit_quant_type,\n",
    "    bnb_4bit_compute_dtype=compute_dtype,\n",
    "    bnb_4bit_use_double_quant=use_nested_quant,\n",
    ")\n",
    "\n",
    "# Check GPU compatibility with bfloat16\n",
    "if compute_dtype == torch.float16 and use_4bit:\n",
    "    major, _ = torch.cuda.get_device_capability()\n",
    "    if major >= 8:\n",
    "        print(\"=\" * 80)\n",
    "        print(\"Your GPU supports bfloat16: accelerate training with bf16=True\")\n",
    "        print(\"=\" * 80)\n",
    "\n",
    "# Load base model\n",
    "model = AutoModelForCausalLM.from_pretrained(\n",
    "    model_name,\n",
    "    quantization_config=bnb_config,\n",
    "    device_map=device_map\n",
    ")\n",
    "model.config.use_cache = False\n",
    "model.config.pretraining_tp = 1\n",
    "\n",
    "tokenizer = AutoTokenizer.from_pretrained(model_name, trust_remote_code=True)\n",
    "tokenizer.pad_token = tokenizer.eos_token\n",
    "tokenizer.padding_side = \"right\" # Fix weird overflow issue with fp16 training\n",
    "\n",
    "\n",
    "# Load LoRA configuration\n",
    "peft_config = LoraConfig(\n",
    "    lora_alpha=lora_alpha,\n",
    "    lora_dropout=lora_dropout,\n",
    "    r=lora_r,\n",
    "    bias=\"none\",\n",
    "    task_type=\"CAUSAL_LM\",\n",
    ")\n",
    "\n",
    "# Training arguments with early stopping criteria\n",
    "training_arguments = TrainingArguments(\n",
    "    load_best_model_at_end = True,\n",
    "    output_dir=output_dir,\n",
    "    num_train_epochs=num_train_epochs,\n",
    "    per_device_train_batch_size=per_device_train_batch_size,\n",
    "    gradient_accumulation_steps=gradient_accumulation_steps,\n",
    "    optim=optim,\n",
    "    save_steps=save_steps,\n",
    "    logging_steps=logging_steps,\n",
    "    learning_rate=learning_rate,\n",
    "    weight_decay=weight_decay,\n",
    "    fp16=fp16,\n",
    "    bf16=bf16,\n",
    "    max_grad_norm=max_grad_norm,\n",
    "    max_steps=max_steps,  # Maintain for limiting total training steps\n",
    "    warmup_ratio=warmup_ratio,\n",
    "    group_by_length=group_by_length,\n",
    "    lr_scheduler_type=lr_scheduler_type,\n",
    "    report_to=\"tensorboard\",\n",
    "    # Early stopping parameters\n",
    "    eval_steps=logging_steps * 2,  # Evaluate validation set every few training steps\n",
    "    evaluation_strategy=\"steps\",\n",
    "    # Perform evaluation after each eval_steps\n",
    ")\n",
    "\n",
    "# SFTTrainer with early stopping logic\n",
    "# patience=2  # Stop training if validation loss doesn't improve for 2 evaluations\n",
    "# class EarlyStoppingCallback():\n",
    "#     def __init__(self, patience=2):\n",
    "#         self.patience = patience\n",
    "#         self.best_score = None\n",
    "#         self.counter = 0\n",
    "\n",
    "#     def on_evaluate(self, eval_result, **kwargs):\n",
    "#         # Track validation loss\n",
    "#         current_score = eval_result.get(\"eval_loss\")\n",
    "#         if self.best_score is None or current_score < self.best_score:\n",
    "#             self.best_score = current_score\n",
    "#             self.counter = 0  # Reset counter on improvement\n",
    "#         else:\n",
    "#             self.counter += 1\n",
    "#             if self.counter >= self.patience:\n",
    "#                 print(f\"Early stopping triggered after {self.patience} evaluations without improvement.\")\n",
    "#                 self.trainer.control = TrainingControl.STOP_EARLY\n",
    "\n",
    "# Create EarlyStopping callback instance\n",
    "# early_stopping_callback = EarlyStoppingCallback(early_stopping_patience=patience)\n",
    "# Train model with early stopping callback\n",
    "trainer = SFTTrainer(\n",
    "    model=model,\n",
    "    train_dataset=hf_dataset,\n",
    "    eval_dataset=eval_dataset,\n",
    "    peft_config=peft_config,\n",
    "    dataset_text_field=\"text\",\n",
    "    max_seq_length=max_seq_length,\n",
    "    tokenizer=tokenizer,\n",
    "    args=training_arguments,\n",
    "    packing=packing,\n",
    "    \n",
    ")\n",
    "\n",
    "# Train model\n",
    "# trainer.train()"
   ]
  },
  {
   "cell_type": "code",
   "execution_count": 11,
   "id": "f60e8174-69dd-4b60-b539-ba2721a4b5d5",
   "metadata": {},
   "outputs": [],
   "source": [
    "patience = 1\n",
    "best_eval_loss = float('inf')"
   ]
  },
  {
   "cell_type": "code",
   "execution_count": 12,
   "id": "c05f662d-ea32-4744-a5c8-770a1072598f",
   "metadata": {},
   "outputs": [
    {
     "name": "stdout",
     "output_type": "stream",
     "text": [
      "epoch number: 1\n"
     ]
    },
    {
     "data": {
      "text/html": [
       "\n",
       "    <div>\n",
       "      \n",
       "      <progress value='30' max='30' style='width:300px; height:20px; vertical-align: middle;'></progress>\n",
       "      [30/30 01:51, Epoch 1/1]\n",
       "    </div>\n",
       "    <table border=\"1\" class=\"dataframe\">\n",
       "  <thead>\n",
       " <tr style=\"text-align: left;\">\n",
       "      <th>Step</th>\n",
       "      <th>Training Loss</th>\n",
       "      <th>Validation Loss</th>\n",
       "    </tr>\n",
       "  </thead>\n",
       "  <tbody>\n",
       "    <tr>\n",
       "      <td>6</td>\n",
       "      <td>3.198500</td>\n",
       "      <td>1.577319</td>\n",
       "    </tr>\n",
       "    <tr>\n",
       "      <td>12</td>\n",
       "      <td>1.226100</td>\n",
       "      <td>0.962921</td>\n",
       "    </tr>\n",
       "    <tr>\n",
       "      <td>18</td>\n",
       "      <td>0.493900</td>\n",
       "      <td>0.475221</td>\n",
       "    </tr>\n",
       "    <tr>\n",
       "      <td>24</td>\n",
       "      <td>1.559300</td>\n",
       "      <td>1.257631</td>\n",
       "    </tr>\n",
       "    <tr>\n",
       "      <td>30</td>\n",
       "      <td>1.061400</td>\n",
       "      <td>1.082540</td>\n",
       "    </tr>\n",
       "  </tbody>\n",
       "</table><p>"
      ],
      "text/plain": [
       "<IPython.core.display.HTML object>"
      ]
     },
     "metadata": {},
     "output_type": "display_data"
    },
    {
     "data": {
      "text/html": [
       "\n",
       "    <div>\n",
       "      \n",
       "      <progress value='4' max='2' style='width:300px; height:20px; vertical-align: middle;'></progress>\n",
       "      [2/2 00:29]\n",
       "    </div>\n",
       "    "
      ],
      "text/plain": [
       "<IPython.core.display.HTML object>"
      ]
     },
     "metadata": {},
     "output_type": "display_data"
    },
    {
     "name": "stdout",
     "output_type": "stream",
     "text": [
      "epoch number: 1\n"
     ]
    },
    {
     "data": {
      "text/html": [
       "\n",
       "    <div>\n",
       "      \n",
       "      <progress value='30' max='30' style='width:300px; height:20px; vertical-align: middle;'></progress>\n",
       "      [30/30 01:52, Epoch 1/1]\n",
       "    </div>\n",
       "    <table border=\"1\" class=\"dataframe\">\n",
       "  <thead>\n",
       " <tr style=\"text-align: left;\">\n",
       "      <th>Step</th>\n",
       "      <th>Training Loss</th>\n",
       "      <th>Validation Loss</th>\n",
       "    </tr>\n",
       "  </thead>\n",
       "  <tbody>\n",
       "    <tr>\n",
       "      <td>6</td>\n",
       "      <td>0.474600</td>\n",
       "      <td>0.497114</td>\n",
       "    </tr>\n",
       "    <tr>\n",
       "      <td>12</td>\n",
       "      <td>0.320100</td>\n",
       "      <td>0.451211</td>\n",
       "    </tr>\n",
       "    <tr>\n",
       "      <td>18</td>\n",
       "      <td>0.292100</td>\n",
       "      <td>0.313466</td>\n",
       "    </tr>\n",
       "    <tr>\n",
       "      <td>24</td>\n",
       "      <td>0.314600</td>\n",
       "      <td>0.297279</td>\n",
       "    </tr>\n",
       "    <tr>\n",
       "      <td>30</td>\n",
       "      <td>0.248900</td>\n",
       "      <td>0.293450</td>\n",
       "    </tr>\n",
       "  </tbody>\n",
       "</table><p>"
      ],
      "text/plain": [
       "<IPython.core.display.HTML object>"
      ]
     },
     "metadata": {},
     "output_type": "display_data"
    },
    {
     "data": {
      "text/html": [
       "\n",
       "    <div>\n",
       "      \n",
       "      <progress value='4' max='2' style='width:300px; height:20px; vertical-align: middle;'></progress>\n",
       "      [2/2 00:29]\n",
       "    </div>\n",
       "    "
      ],
      "text/plain": [
       "<IPython.core.display.HTML object>"
      ]
     },
     "metadata": {},
     "output_type": "display_data"
    },
    {
     "name": "stdout",
     "output_type": "stream",
     "text": [
      "epoch number: 1\n"
     ]
    },
    {
     "data": {
      "text/html": [
       "\n",
       "    <div>\n",
       "      \n",
       "      <progress value='30' max='30' style='width:300px; height:20px; vertical-align: middle;'></progress>\n",
       "      [30/30 01:52, Epoch 1/1]\n",
       "    </div>\n",
       "    <table border=\"1\" class=\"dataframe\">\n",
       "  <thead>\n",
       " <tr style=\"text-align: left;\">\n",
       "      <th>Step</th>\n",
       "      <th>Training Loss</th>\n",
       "      <th>Validation Loss</th>\n",
       "    </tr>\n",
       "  </thead>\n",
       "  <tbody>\n",
       "    <tr>\n",
       "      <td>6</td>\n",
       "      <td>0.292700</td>\n",
       "      <td>0.400868</td>\n",
       "    </tr>\n",
       "    <tr>\n",
       "      <td>12</td>\n",
       "      <td>0.256300</td>\n",
       "      <td>0.347605</td>\n",
       "    </tr>\n",
       "    <tr>\n",
       "      <td>18</td>\n",
       "      <td>0.272900</td>\n",
       "      <td>0.302644</td>\n",
       "    </tr>\n",
       "    <tr>\n",
       "      <td>24</td>\n",
       "      <td>0.279300</td>\n",
       "      <td>0.281562</td>\n",
       "    </tr>\n",
       "    <tr>\n",
       "      <td>30</td>\n",
       "      <td>0.202000</td>\n",
       "      <td>0.280440</td>\n",
       "    </tr>\n",
       "  </tbody>\n",
       "</table><p>"
      ],
      "text/plain": [
       "<IPython.core.display.HTML object>"
      ]
     },
     "metadata": {},
     "output_type": "display_data"
    },
    {
     "data": {
      "text/html": [
       "\n",
       "    <div>\n",
       "      \n",
       "      <progress value='2' max='2' style='width:300px; height:20px; vertical-align: middle;'></progress>\n",
       "      [2/2 00:04]\n",
       "    </div>\n",
       "    "
      ],
      "text/plain": [
       "<IPython.core.display.HTML object>"
      ]
     },
     "metadata": {},
     "output_type": "display_data"
    },
    {
     "name": "stdout",
     "output_type": "stream",
     "text": [
      "Training is complete\n"
     ]
    }
   ],
   "source": [
    "for epoch in range(3):\n",
    "    print(\"epoch number: 1\", epoch)\n",
    "    # Train for one epoch\n",
    "    trainer.train()\n",
    "    eval_results = trainer.evaluate()\n",
    "    eval_loss = eval_results['eval_loss']\n",
    "    if eval_loss < best_eval_loss:\n",
    "        best_eval_loss = eval_loss\n",
    "        no_improvement_counter = 0\n",
    "        # Save the model if it's the best so far\n",
    "        trainer.save_model(\"best_model\")\n",
    "    else:\n",
    "        no_improvement_counter += 1\n",
    "    \n",
    "    if no_improvement_counter >= patience:\n",
    "        print(f\"No improvement for {patience} epochs. Stopping training.\")\n",
    "        break\n",
    "\n",
    "print(\"Training is complete\")"
   ]
  },
  {
   "cell_type": "code",
   "execution_count": null,
   "id": "4d21b3b4-e03c-4f4a-a66c-aef9bfd06958",
   "metadata": {},
   "outputs": [],
   "source": []
  }
 ],
 "metadata": {
  "kernelspec": {
   "display_name": "Python 3 (ipykernel)",
   "language": "python",
   "name": "python3"
  },
  "language_info": {
   "codemirror_mode": {
    "name": "ipython",
    "version": 3
   },
   "file_extension": ".py",
   "mimetype": "text/x-python",
   "name": "python",
   "nbconvert_exporter": "python",
   "pygments_lexer": "ipython3",
   "version": "3.8.10"
  }
 },
 "nbformat": 4,
 "nbformat_minor": 5
}
