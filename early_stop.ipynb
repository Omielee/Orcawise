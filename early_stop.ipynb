{
 "cells": [
  {
   "cell_type": "code",
   "execution_count": null,
   "metadata": {},
   "outputs": [],
   "source": [
    "from transformers.trainer_callback import EarlyStoppingCallback\n",
    "from transformers import TrainingArguments\n",
    "\n",
    "# Define the EarlyStoppingCallback with debug prints\n",
    "class EarlyStoppingCallbackWithDebug(EarlyStoppingCallback):\n",
    "    def __init__(self, patience=2):\n",
    "        super().__init__(early_stopping_patience=patience)\n",
    "\n",
    "    def on_evaluate(self, eval_result, **kwargs):\n",
    "        print(\"Evaluation result:\", eval_result)  # Print evaluation result for debugging\n",
    "        # Track validation loss\n",
    "        current_score = eval_result.get(\"eval_loss\")\n",
    "        if self.best_score is None or current_score < self.best_score:\n",
    "            self.best_score = current_score\n",
    "            self.counter = 0  # Reset counter on improvement\n",
    "        else:\n",
    "            self.counter += 1\n",
    "            if self.counter >= self.patience:\n",
    "                print(f\"Early stopping triggered after {self.patience} evaluations without improvement.\")\n",
    "                self.trainer.control = TrainingControl.STOP_EARLY\n",
    "\n",
    "# Training arguments with early stopping criteria\n",
    "training_arguments = TrainingArguments(\n",
    "    # Other arguments...\n",
    "    evaluation_strategy=\"steps\",\n",
    "    eval_steps=logging_steps * 2,  # Evaluate validation set every few training steps\n",
    ")\n",
    "\n",
    "# Create EarlyStopping callback instance\n",
    "early_stopping_callback = EarlyStoppingCallbackWithDebug(patience=patience)\n",
    "\n",
    "# Train model with early stopping callback\n",
    "trainer = SFTTrainer(\n",
    "    # Other arguments...\n",
    "    args=training_arguments,\n",
    "    callbacks=[early_stopping_callback]  # Add callback to trainer\n",
    ")\n",
    "\n",
    "# Train model\n",
    "trainer.train()\n"
   ]
  }
 ],
 "metadata": {
  "language_info": {
   "name": "python"
  }
 },
 "nbformat": 4,
 "nbformat_minor": 2
}
